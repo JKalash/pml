{
  "nbformat": 4,
  "nbformat_minor": 0,
  "metadata": {
    "kernelspec": {
      "display_name": "Python 3",
      "language": "python",
      "name": "python3"
    },
    "language_info": {
      "codemirror_mode": {
        "name": "ipython",
        "version": 3
      },
      "file_extension": ".py",
      "mimetype": "text/x-python",
      "name": "python",
      "nbconvert_exporter": "python",
      "pygments_lexer": "ipython3",
      "version": "3.6.5"
    },
    "colab": {
      "name": "003.ipynb",
      "provenance": []
    }
  },
  "cells": [
    {
      "cell_type": "markdown",
      "metadata": {
        "id": "iqIVAp235y0g"
      },
      "source": [
        "# Load Boston Housing Dataset\n",
        "https://scikit-learn.org/stable/modules/generated/sklearn.datasets.load_boston.html#sklearn.datasets.load_boston"
      ]
    },
    {
      "cell_type": "code",
      "metadata": {
        "scrolled": true,
        "id": "KzFIYiUO5y0h",
        "outputId": "b926710b-29c0-443a-d25a-4ab5c0215f50",
        "colab": {
          "base_uri": "https://localhost:8080/",
          "height": 884
        }
      },
      "source": [
        "from sklearn.datasets import load_boston\n",
        "house_data = load_boston()\n",
        "\n",
        "print(house_data['DESCR'])"
      ],
      "execution_count": 25,
      "outputs": [
        {
          "output_type": "stream",
          "text": [
            ".. _boston_dataset:\n",
            "\n",
            "Boston house prices dataset\n",
            "---------------------------\n",
            "\n",
            "**Data Set Characteristics:**  \n",
            "\n",
            "    :Number of Instances: 506 \n",
            "\n",
            "    :Number of Attributes: 13 numeric/categorical predictive. Median Value (attribute 14) is usually the target.\n",
            "\n",
            "    :Attribute Information (in order):\n",
            "        - CRIM     per capita crime rate by town\n",
            "        - ZN       proportion of residential land zoned for lots over 25,000 sq.ft.\n",
            "        - INDUS    proportion of non-retail business acres per town\n",
            "        - CHAS     Charles River dummy variable (= 1 if tract bounds river; 0 otherwise)\n",
            "        - NOX      nitric oxides concentration (parts per 10 million)\n",
            "        - RM       average number of rooms per dwelling\n",
            "        - AGE      proportion of owner-occupied units built prior to 1940\n",
            "        - DIS      weighted distances to five Boston employment centres\n",
            "        - RAD      index of accessibility to radial highways\n",
            "        - TAX      full-value property-tax rate per $10,000\n",
            "        - PTRATIO  pupil-teacher ratio by town\n",
            "        - B        1000(Bk - 0.63)^2 where Bk is the proportion of blacks by town\n",
            "        - LSTAT    % lower status of the population\n",
            "        - MEDV     Median value of owner-occupied homes in $1000's\n",
            "\n",
            "    :Missing Attribute Values: None\n",
            "\n",
            "    :Creator: Harrison, D. and Rubinfeld, D.L.\n",
            "\n",
            "This is a copy of UCI ML housing dataset.\n",
            "https://archive.ics.uci.edu/ml/machine-learning-databases/housing/\n",
            "\n",
            "\n",
            "This dataset was taken from the StatLib library which is maintained at Carnegie Mellon University.\n",
            "\n",
            "The Boston house-price data of Harrison, D. and Rubinfeld, D.L. 'Hedonic\n",
            "prices and the demand for clean air', J. Environ. Economics & Management,\n",
            "vol.5, 81-102, 1978.   Used in Belsley, Kuh & Welsch, 'Regression diagnostics\n",
            "...', Wiley, 1980.   N.B. Various transformations are used in the table on\n",
            "pages 244-261 of the latter.\n",
            "\n",
            "The Boston house-price data has been used in many machine learning papers that address regression\n",
            "problems.   \n",
            "     \n",
            ".. topic:: References\n",
            "\n",
            "   - Belsley, Kuh & Welsch, 'Regression diagnostics: Identifying Influential Data and Sources of Collinearity', Wiley, 1980. 244-261.\n",
            "   - Quinlan,R. (1993). Combining Instance-Based and Model-Based Learning. In Proceedings on the Tenth International Conference of Machine Learning, 236-243, University of Massachusetts, Amherst. Morgan Kaufmann.\n",
            "\n"
          ],
          "name": "stdout"
        }
      ]
    },
    {
      "cell_type": "code",
      "metadata": {
        "id": "DDVDySaJ5y0n",
        "outputId": "8b773be8-9563-4b53-e4fc-376a5522c6c2",
        "colab": {
          "base_uri": "https://localhost:8080/",
          "height": 34
        }
      },
      "source": [
        "# How many houses are there (N)\n",
        "N = len(house_data['data'])\n",
        "print(N)"
      ],
      "execution_count": 7,
      "outputs": [
        {
          "output_type": "stream",
          "text": [
            "506\n"
          ],
          "name": "stdout"
        }
      ]
    },
    {
      "cell_type": "code",
      "metadata": {
        "id": "5pyzeCEJ5y0r",
        "outputId": "bf3ca04c-05fb-44c7-cb0b-451383961ae2",
        "colab": {
          "base_uri": "https://localhost:8080/",
          "height": 51
        }
      },
      "source": [
        "# A house has how many attributes(or features or signals or dimensions or columns)\n",
        "n = len(house_data.feature_names)\n",
        "print(house_data.feature_names)\n",
        "# All attributes together make up a row (or input or x)"
      ],
      "execution_count": 24,
      "outputs": [
        {
          "output_type": "stream",
          "text": [
            "['CRIM' 'ZN' 'INDUS' 'CHAS' 'NOX' 'RM' 'AGE' 'DIS' 'RAD' 'TAX' 'PTRATIO'\n",
            " 'B' 'LSTAT']\n"
          ],
          "name": "stdout"
        }
      ]
    },
    {
      "cell_type": "code",
      "metadata": {
        "id": "LAU4YAdu5y0v",
        "outputId": "3326a05c-db9d-4baa-8674-aa38bf4e0861",
        "colab": {
          "base_uri": "https://localhost:8080/",
          "height": 34
        }
      },
      "source": [
        "# Whats the Median value of the first house (target or label or output y)\n",
        "print(house_data['target'][0])"
      ],
      "execution_count": 8,
      "outputs": [
        {
          "output_type": "stream",
          "text": [
            "24.0\n"
          ],
          "name": "stdout"
        }
      ]
    },
    {
      "cell_type": "code",
      "metadata": {
        "id": "o2b1bLsc5y0y",
        "outputId": "e0066bde-60ce-43ff-eb2f-5a250726b773",
        "colab": {
          "base_uri": "https://localhost:8080/",
          "height": 34
        }
      },
      "source": [
        "# Whats the value of feature RM (average number of rooms per dwelling) for the last house\n",
        "# TBD\n",
        "print(house_data['data'][-1][5])"
      ],
      "execution_count": 26,
      "outputs": [
        {
          "output_type": "stream",
          "text": [
            "6.03\n"
          ],
          "name": "stdout"
        }
      ]
    },
    {
      "cell_type": "markdown",
      "metadata": {
        "id": "2swcTScQ5y06"
      },
      "source": [
        "#### House 8 all features\n",
        "$\n",
        "\\begin{align}\n",
        "X^{8} \n",
        "\\end{align}\n",
        "$\n"
      ]
    },
    {
      "cell_type": "code",
      "metadata": {
        "id": "r3PPuSGe5y06",
        "outputId": "a7b84937-1d27-4640-a0e3-6dd4ce6c23b1",
        "colab": {
          "base_uri": "https://localhost:8080/",
          "height": 68
        }
      },
      "source": [
        "house_data['data'][8]"
      ],
      "execution_count": 18,
      "outputs": [
        {
          "output_type": "execute_result",
          "data": {
            "text/plain": [
              "array([2.1124e-01, 1.2500e+01, 7.8700e+00, 0.0000e+00, 5.2400e-01,\n",
              "       5.6310e+00, 1.0000e+02, 6.0821e+00, 5.0000e+00, 3.1100e+02,\n",
              "       1.5200e+01, 3.8663e+02, 2.9930e+01])"
            ]
          },
          "metadata": {
            "tags": []
          },
          "execution_count": 18
        }
      ]
    },
    {
      "cell_type": "markdown",
      "metadata": {
        "id": "nPH1cZKG5y09"
      },
      "source": [
        "#### House 8,  feature 2\n",
        "(INDUS proportion of non-retail business acres per town)\n",
        "\n",
        "$\n",
        "\\begin{align}\n",
        "X_{2}^{8}\n",
        "\\end{align}\n",
        "$\n"
      ]
    },
    {
      "cell_type": "code",
      "metadata": {
        "id": "Q2eaqul15y09",
        "outputId": "68e59994-a378-491f-8385-ec4fae8a3aa9",
        "colab": {
          "base_uri": "https://localhost:8080/",
          "height": 34
        }
      },
      "source": [
        "house_data['data'][8][2]"
      ],
      "execution_count": 19,
      "outputs": [
        {
          "output_type": "execute_result",
          "data": {
            "text/plain": [
              "7.87"
            ]
          },
          "metadata": {
            "tags": []
          },
          "execution_count": 19
        }
      ]
    },
    {
      "cell_type": "markdown",
      "metadata": {
        "id": "JJdhsqYE5y1A"
      },
      "source": [
        "#### All houses feature 4\n",
        "(NOX nitric oxides concentration)\n",
        "\n",
        "$\n",
        "\\begin{align}\n",
        "X_{4}\n",
        "\\end{align}\n",
        "$\n"
      ]
    },
    {
      "cell_type": "code",
      "metadata": {
        "id": "8GvGbzuQ5y1B",
        "outputId": "7a73083a-23ab-4648-e9ce-d187aa97edea",
        "colab": {
          "base_uri": "https://localhost:8080/",
          "height": 54
        }
      },
      "source": [
        "NOX = [val[4] for val in house_data['data']]\n",
        "print(NOX) "
      ],
      "execution_count": 23,
      "outputs": [
        {
          "output_type": "stream",
          "text": [
            "[0.538, 0.469, 0.469, 0.458, 0.458, 0.458, 0.524, 0.524, 0.524, 0.524, 0.524, 0.524, 0.524, 0.538, 0.538, 0.538, 0.538, 0.538, 0.538, 0.538, 0.538, 0.538, 0.538, 0.538, 0.538, 0.538, 0.538, 0.538, 0.538, 0.538, 0.538, 0.538, 0.538, 0.538, 0.538, 0.499, 0.499, 0.499, 0.499, 0.428, 0.428, 0.448, 0.448, 0.448, 0.448, 0.448, 0.448, 0.448, 0.448, 0.448, 0.439, 0.439, 0.439, 0.439, 0.41, 0.403, 0.41, 0.411, 0.453, 0.453, 0.453, 0.453, 0.453, 0.453, 0.4161, 0.398, 0.398, 0.409, 0.409, 0.409, 0.413, 0.413, 0.413, 0.413, 0.437, 0.437, 0.437, 0.437, 0.437, 0.437, 0.426, 0.426, 0.426, 0.426, 0.449, 0.449, 0.449, 0.449, 0.489, 0.489, 0.489, 0.489, 0.464, 0.464, 0.464, 0.445, 0.445, 0.445, 0.445, 0.445, 0.52, 0.52, 0.52, 0.52, 0.52, 0.52, 0.52, 0.52, 0.52, 0.52, 0.52, 0.547, 0.547, 0.547, 0.547, 0.547, 0.547, 0.547, 0.547, 0.547, 0.581, 0.581, 0.581, 0.581, 0.581, 0.581, 0.581, 0.624, 0.624, 0.624, 0.624, 0.624, 0.624, 0.624, 0.624, 0.624, 0.624, 0.624, 0.624, 0.624, 0.624, 0.624, 0.871, 0.871, 0.871, 0.871, 0.871, 0.871, 0.871, 0.871, 0.871, 0.871, 0.871, 0.871, 0.871, 0.871, 0.871, 0.605, 0.605, 0.871, 0.605, 0.605, 0.605, 0.605, 0.605, 0.605, 0.605, 0.605, 0.605, 0.605, 0.605, 0.605, 0.51, 0.51, 0.51, 0.51, 0.51, 0.51, 0.51, 0.488, 0.488, 0.488, 0.488, 0.488, 0.488, 0.488, 0.488, 0.437, 0.437, 0.437, 0.437, 0.437, 0.437, 0.401, 0.401, 0.422, 0.404, 0.404, 0.404, 0.403, 0.403, 0.415, 0.415, 0.4161, 0.4161, 0.489, 0.489, 0.489, 0.489, 0.489, 0.489, 0.489, 0.489, 0.489, 0.489, 0.489, 0.55, 0.55, 0.55, 0.55, 0.507, 0.507, 0.507, 0.507, 0.504, 0.504, 0.504, 0.504, 0.504, 0.504, 0.504, 0.504, 0.507, 0.507, 0.507, 0.507, 0.507, 0.507, 0.428, 0.428, 0.428, 0.428, 0.428, 0.428, 0.431, 0.431, 0.431, 0.431, 0.431, 0.431, 0.431, 0.431, 0.431, 0.431, 0.392, 0.392, 0.394, 0.647, 0.647, 0.647, 0.647, 0.647, 0.647, 0.647, 0.647, 0.647, 0.647, 0.575, 0.575, 0.464, 0.464, 0.464, 0.464, 0.464, 0.447, 0.447, 0.447, 0.447, 0.447, 0.4429, 0.4429, 0.4429, 0.4429, 0.401, 0.4, 0.389, 0.385, 0.405, 0.405, 0.405, 0.411, 0.411, 0.411, 0.437, 0.437, 0.437, 0.437, 0.437, 0.4, 0.4, 0.4, 0.433, 0.433, 0.433, 0.472, 0.472, 0.472, 0.472, 0.544, 0.544, 0.544, 0.544, 0.544, 0.544, 0.544, 0.544, 0.544, 0.544, 0.544, 0.544, 0.493, 0.493, 0.493, 0.493, 0.493, 0.493, 0.493, 0.493, 0.46, 0.46, 0.46, 0.4379, 0.4379, 0.515, 0.515, 0.515, 0.515, 0.515, 0.515, 0.515, 0.515, 0.442, 0.518, 0.484, 0.484, 0.442, 0.442, 0.429, 0.435, 0.429, 0.429, 0.411, 0.411, 0.41, 0.413, 0.413, 0.77, 0.77, 0.77, 0.77, 0.77, 0.77, 0.77, 0.77, 0.718, 0.718, 0.718, 0.631, 0.631, 0.631, 0.631, 0.631, 0.668, 0.668, 0.668, 0.671, 0.671, 0.671, 0.671, 0.671, 0.671, 0.671, 0.7, 0.7, 0.7, 0.7, 0.7, 0.7, 0.7, 0.7, 0.7, 0.7, 0.7, 0.693, 0.693, 0.693, 0.693, 0.693, 0.693, 0.693, 0.693, 0.693, 0.693, 0.693, 0.693, 0.693, 0.659, 0.659, 0.597, 0.597, 0.597, 0.597, 0.597, 0.597, 0.693, 0.679, 0.679, 0.679, 0.679, 0.718, 0.718, 0.718, 0.614, 0.614, 0.584, 0.679, 0.584, 0.679, 0.679, 0.679, 0.584, 0.584, 0.584, 0.713, 0.713, 0.74, 0.74, 0.74, 0.74, 0.74, 0.74, 0.74, 0.74, 0.74, 0.74, 0.74, 0.74, 0.74, 0.713, 0.713, 0.713, 0.713, 0.713, 0.713, 0.713, 0.713, 0.713, 0.713, 0.713, 0.713, 0.713, 0.713, 0.713, 0.713, 0.655, 0.655, 0.655, 0.584, 0.58, 0.58, 0.58, 0.532, 0.58, 0.614, 0.584, 0.584, 0.614, 0.614, 0.614, 0.614, 0.532, 0.532, 0.532, 0.532, 0.583, 0.583, 0.583, 0.583, 0.609, 0.609, 0.609, 0.609, 0.609, 0.585, 0.585, 0.585, 0.585, 0.585, 0.585, 0.585, 0.585, 0.573, 0.573, 0.573, 0.573, 0.573]\n"
          ],
          "name": "stdout"
        }
      ]
    },
    {
      "cell_type": "markdown",
      "metadata": {
        "id": "i4c6CUYG5y1D"
      },
      "source": [
        "#### Target value for house 4\n",
        "$\n",
        "Y^{4}\n",
        "$\n"
      ]
    },
    {
      "cell_type": "code",
      "metadata": {
        "id": "ofmHW5Fa5y1E",
        "outputId": "148eb133-4260-41f8-db05-a520c4907369",
        "colab": {
          "base_uri": "https://localhost:8080/",
          "height": 34
        }
      },
      "source": [
        "house_data['target'][4]"
      ],
      "execution_count": 20,
      "outputs": [
        {
          "output_type": "execute_result",
          "data": {
            "text/plain": [
              "36.2"
            ]
          },
          "metadata": {
            "tags": []
          },
          "execution_count": 20
        }
      ]
    },
    {
      "cell_type": "markdown",
      "metadata": {
        "id": "8Ql7ypwJ5y1G"
      },
      "source": [
        "Small *x* and *y* are used to represent a *feature* and *target* of a single house\n",
        "#### Which among the following could be valid representation?\n",
        "$\n",
        "x^{4}\\:, \\: x_{2}\\:,\\:y^{4}\\:,\\:y_{2}\n",
        "$\n",
        "\n"
      ]
    },
    {
      "cell_type": "code",
      "metadata": {
        "id": "hAzmmfrp5y1G"
      },
      "source": [
        "# x2 only"
      ],
      "execution_count": 26,
      "outputs": []
    }
  ]
}